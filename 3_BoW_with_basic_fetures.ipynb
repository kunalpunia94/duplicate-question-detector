{
 "cells": [
  {
   "cell_type": "markdown",
   "id": "50d639ff-25e5-4dd9-9af7-3526030b925f",
   "metadata": {},
   "source": [
    "# We were not getting the good accuracy with only BoW so we thought we will add some features and check again"
   ]
  },
  {
   "cell_type": "code",
   "execution_count": 1,
   "id": "f01ff67e-5001-4c1d-9534-28eb9d5fc633",
   "metadata": {},
   "outputs": [],
   "source": [
    "import numpy as np\n",
    "import pandas as pd\n",
    "import matplotlib.pyplot as plt\n",
    "import seaborn as sns\n",
    "\n",
    "import warnings\n",
    "warnings.filterwarnings('ignore')"
   ]
  },
  {
   "cell_type": "code",
   "execution_count": 2,
   "id": "3b2df17b-3c49-4813-a049-d8fa62983220",
   "metadata": {},
   "outputs": [],
   "source": [
    "df = pd.read_csv(r\"D:\\Data Science\\NLP\\Day7_Duplicate_question_pair\\questions.csv\")"
   ]
  },
  {
   "cell_type": "code",
   "execution_count": 3,
   "id": "f6c3a7c9-5435-4b5b-9874-5c9de9f2e5dd",
   "metadata": {},
   "outputs": [
    {
     "data": {
      "text/plain": [
       "(404351, 6)"
      ]
     },
     "execution_count": 3,
     "metadata": {},
     "output_type": "execute_result"
    }
   ],
   "source": [
    "df.shape"
   ]
  },
  {
   "cell_type": "code",
   "execution_count": 4,
   "id": "a68be39d-cd43-47e4-ada1-a1ac8924b6d4",
   "metadata": {},
   "outputs": [
    {
     "data": {
      "text/html": [
       "<div>\n",
       "<style scoped>\n",
       "    .dataframe tbody tr th:only-of-type {\n",
       "        vertical-align: middle;\n",
       "    }\n",
       "\n",
       "    .dataframe tbody tr th {\n",
       "        vertical-align: top;\n",
       "    }\n",
       "\n",
       "    .dataframe thead th {\n",
       "        text-align: right;\n",
       "    }\n",
       "</style>\n",
       "<table border=\"1\" class=\"dataframe\">\n",
       "  <thead>\n",
       "    <tr style=\"text-align: right;\">\n",
       "      <th></th>\n",
       "      <th>id</th>\n",
       "      <th>qid1</th>\n",
       "      <th>qid2</th>\n",
       "      <th>question1</th>\n",
       "      <th>question2</th>\n",
       "      <th>is_duplicate</th>\n",
       "    </tr>\n",
       "  </thead>\n",
       "  <tbody>\n",
       "    <tr>\n",
       "      <th>0</th>\n",
       "      <td>0</td>\n",
       "      <td>1</td>\n",
       "      <td>2</td>\n",
       "      <td>What is the step by step guide to invest in sh...</td>\n",
       "      <td>What is the step by step guide to invest in sh...</td>\n",
       "      <td>0</td>\n",
       "    </tr>\n",
       "    <tr>\n",
       "      <th>1</th>\n",
       "      <td>1</td>\n",
       "      <td>3</td>\n",
       "      <td>4</td>\n",
       "      <td>What is the story of Kohinoor (Koh-i-Noor) Dia...</td>\n",
       "      <td>What would happen if the Indian government sto...</td>\n",
       "      <td>0</td>\n",
       "    </tr>\n",
       "    <tr>\n",
       "      <th>2</th>\n",
       "      <td>2</td>\n",
       "      <td>5</td>\n",
       "      <td>6</td>\n",
       "      <td>How can I increase the speed of my internet co...</td>\n",
       "      <td>How can Internet speed be increased by hacking...</td>\n",
       "      <td>0</td>\n",
       "    </tr>\n",
       "    <tr>\n",
       "      <th>3</th>\n",
       "      <td>3</td>\n",
       "      <td>7</td>\n",
       "      <td>8</td>\n",
       "      <td>Why am I mentally very lonely? How can I solve...</td>\n",
       "      <td>Find the remainder when [math]23^{24}[/math] i...</td>\n",
       "      <td>0</td>\n",
       "    </tr>\n",
       "    <tr>\n",
       "      <th>4</th>\n",
       "      <td>4</td>\n",
       "      <td>9</td>\n",
       "      <td>10</td>\n",
       "      <td>Which one dissolve in water quikly sugar, salt...</td>\n",
       "      <td>Which fish would survive in salt water?</td>\n",
       "      <td>0</td>\n",
       "    </tr>\n",
       "  </tbody>\n",
       "</table>\n",
       "</div>"
      ],
      "text/plain": [
       "   id  qid1  qid2                                          question1  \\\n",
       "0   0     1     2  What is the step by step guide to invest in sh...   \n",
       "1   1     3     4  What is the story of Kohinoor (Koh-i-Noor) Dia...   \n",
       "2   2     5     6  How can I increase the speed of my internet co...   \n",
       "3   3     7     8  Why am I mentally very lonely? How can I solve...   \n",
       "4   4     9    10  Which one dissolve in water quikly sugar, salt...   \n",
       "\n",
       "                                           question2  is_duplicate  \n",
       "0  What is the step by step guide to invest in sh...             0  \n",
       "1  What would happen if the Indian government sto...             0  \n",
       "2  How can Internet speed be increased by hacking...             0  \n",
       "3  Find the remainder when [math]23^{24}[/math] i...             0  \n",
       "4            Which fish would survive in salt water?             0  "
      ]
     },
     "execution_count": 4,
     "metadata": {},
     "output_type": "execute_result"
    }
   ],
   "source": [
    "df.head()"
   ]
  },
  {
   "cell_type": "code",
   "execution_count": 5,
   "id": "eb0cad1c-6210-4fb2-b19e-96a35d531f77",
   "metadata": {},
   "outputs": [],
   "source": [
    "new_df = df.sample(30000,random_state=2)"
   ]
  },
  {
   "cell_type": "code",
   "execution_count": 6,
   "id": "0ed349c6-aa17-4e94-9f17-e84c3e58a020",
   "metadata": {},
   "outputs": [
    {
     "data": {
      "text/plain": [
       "id              0\n",
       "qid1            0\n",
       "qid2            0\n",
       "question1       0\n",
       "question2       0\n",
       "is_duplicate    0\n",
       "dtype: int64"
      ]
     },
     "execution_count": 6,
     "metadata": {},
     "output_type": "execute_result"
    }
   ],
   "source": [
    "new_df.isnull().sum()"
   ]
  },
  {
   "cell_type": "code",
   "execution_count": 7,
   "id": "542aeb35-808d-4a92-ab26-4a92008a9eda",
   "metadata": {},
   "outputs": [
    {
     "data": {
      "text/html": [
       "<div>\n",
       "<style scoped>\n",
       "    .dataframe tbody tr th:only-of-type {\n",
       "        vertical-align: middle;\n",
       "    }\n",
       "\n",
       "    .dataframe tbody tr th {\n",
       "        vertical-align: top;\n",
       "    }\n",
       "\n",
       "    .dataframe thead th {\n",
       "        text-align: right;\n",
       "    }\n",
       "</style>\n",
       "<table border=\"1\" class=\"dataframe\">\n",
       "  <thead>\n",
       "    <tr style=\"text-align: right;\">\n",
       "      <th></th>\n",
       "      <th>id</th>\n",
       "      <th>qid1</th>\n",
       "      <th>qid2</th>\n",
       "      <th>question1</th>\n",
       "      <th>question2</th>\n",
       "      <th>is_duplicate</th>\n",
       "    </tr>\n",
       "  </thead>\n",
       "  <tbody>\n",
       "    <tr>\n",
       "      <th>339499</th>\n",
       "      <td>339499</td>\n",
       "      <td>665522</td>\n",
       "      <td>665523</td>\n",
       "      <td>Why was Cyrus Mistry removed as the Chairman o...</td>\n",
       "      <td>Why did the Tata Sons sacked Cyrus Mistry?</td>\n",
       "      <td>1</td>\n",
       "    </tr>\n",
       "    <tr>\n",
       "      <th>289521</th>\n",
       "      <td>289521</td>\n",
       "      <td>568878</td>\n",
       "      <td>568879</td>\n",
       "      <td>By what age would you think a man should be ma...</td>\n",
       "      <td>When my wrist is extended I feel a shock and b...</td>\n",
       "      <td>0</td>\n",
       "    </tr>\n",
       "    <tr>\n",
       "      <th>4665</th>\n",
       "      <td>4665</td>\n",
       "      <td>9325</td>\n",
       "      <td>9326</td>\n",
       "      <td>How would an arbitrageur seek to capitalize gi...</td>\n",
       "      <td>How would an arbitrageur seek to capitalize gi...</td>\n",
       "      <td>0</td>\n",
       "    </tr>\n",
       "    <tr>\n",
       "      <th>54203</th>\n",
       "      <td>54203</td>\n",
       "      <td>107861</td>\n",
       "      <td>107862</td>\n",
       "      <td>Why did Quora mark my question as incomplete?</td>\n",
       "      <td>Why does Quora detect my question as an incomp...</td>\n",
       "      <td>1</td>\n",
       "    </tr>\n",
       "    <tr>\n",
       "      <th>132566</th>\n",
       "      <td>132566</td>\n",
       "      <td>262554</td>\n",
       "      <td>91499</td>\n",
       "      <td>What is it like working with Pivotal Labs as a...</td>\n",
       "      <td>What's it like to work at Pivotal Labs?</td>\n",
       "      <td>0</td>\n",
       "    </tr>\n",
       "  </tbody>\n",
       "</table>\n",
       "</div>"
      ],
      "text/plain": [
       "            id    qid1    qid2  \\\n",
       "339499  339499  665522  665523   \n",
       "289521  289521  568878  568879   \n",
       "4665      4665    9325    9326   \n",
       "54203    54203  107861  107862   \n",
       "132566  132566  262554   91499   \n",
       "\n",
       "                                                question1  \\\n",
       "339499  Why was Cyrus Mistry removed as the Chairman o...   \n",
       "289521  By what age would you think a man should be ma...   \n",
       "4665    How would an arbitrageur seek to capitalize gi...   \n",
       "54203       Why did Quora mark my question as incomplete?   \n",
       "132566  What is it like working with Pivotal Labs as a...   \n",
       "\n",
       "                                                question2  is_duplicate  \n",
       "339499         Why did the Tata Sons sacked Cyrus Mistry?             1  \n",
       "289521  When my wrist is extended I feel a shock and b...             0  \n",
       "4665    How would an arbitrageur seek to capitalize gi...             0  \n",
       "54203   Why does Quora detect my question as an incomp...             1  \n",
       "132566            What's it like to work at Pivotal Labs?             0  "
      ]
     },
     "execution_count": 7,
     "metadata": {},
     "output_type": "execute_result"
    }
   ],
   "source": [
    "new_df.head()"
   ]
  },
  {
   "cell_type": "code",
   "execution_count": 8,
   "id": "d2487a48-09ea-4f1f-9d3b-93a409a13a36",
   "metadata": {},
   "outputs": [
    {
     "data": {
      "text/plain": [
       "id              0\n",
       "qid1            0\n",
       "qid2            0\n",
       "question1       0\n",
       "question2       0\n",
       "is_duplicate    0\n",
       "dtype: int64"
      ]
     },
     "execution_count": 8,
     "metadata": {},
     "output_type": "execute_result"
    }
   ],
   "source": [
    "new_df.isnull().sum()"
   ]
  },
  {
   "cell_type": "code",
   "execution_count": 9,
   "id": "6bf8947d-1372-49da-9a01-37c49df38213",
   "metadata": {},
   "outputs": [
    {
     "data": {
      "text/plain": [
       "0"
      ]
     },
     "execution_count": 9,
     "metadata": {},
     "output_type": "execute_result"
    }
   ],
   "source": [
    "new_df.duplicated().sum()"
   ]
  },
  {
   "cell_type": "code",
   "execution_count": 10,
   "id": "2e4c0a1d-da0d-4308-95a3-362283089a44",
   "metadata": {},
   "outputs": [
    {
     "name": "stdout",
     "output_type": "stream",
     "text": [
      "is_duplicate\n",
      "0    255045\n",
      "1    149306\n",
      "Name: count, dtype: int64\n",
      "is_duplicate\n",
      "0    63.07515\n",
      "1    36.92485\n",
      "Name: count, dtype: float64\n"
     ]
    },
    {
     "data": {
      "image/png": "[encoded data removed]",
      "text/plain": [
       "<Figure size 640x480 with 1 Axes>"
      ]
     },
     "metadata": {},
     "output_type": "display_data"
    }
   ],
   "source": [
    "#distrubution of duplicated and non-duplicated questions\n",
    "print(df['is_duplicate'].value_counts())\n",
    "print((df['is_duplicate'].value_counts()/df['is_duplicate'].count())*100)\n",
    "\n",
    "# Plotting the distribution\n",
    "df['is_duplicate'].value_counts().plot(kind='bar')\n",
    "plt.title(\"Distribution of Duplicated vs Non-Duplicated Questions\")\n",
    "plt.xlabel(\"Is Duplicate\")\n",
    "plt.ylabel(\"Number of Questions\")\n",
    "plt.show()"
   ]
  },
  {
   "cell_type": "code",
   "execution_count": 11,
   "id": "3c380cc6-2259-47e0-b986-e31a6ae58e76",
   "metadata": {},
   "outputs": [
    {
     "name": "stdout",
     "output_type": "stream",
     "text": [
      "Number of unique questions 59795\n",
      "Number of questions getting repeated 176\n"
     ]
    }
   ],
   "source": [
    "# Repeated questions\n",
    "\n",
    "qid = pd.Series(new_df['qid1'].tolist() + new_df['qid2'].tolist())\n",
    "print('Number of unique questions',np.unique(qid).shape[0])\n",
    "x = qid.value_counts()>1\n",
    "print('Number of questions getting repeated',x[x].shape[0])"
   ]
  },
  {
   "cell_type": "code",
   "execution_count": 12,
   "id": "bf3c384b-3c13-4f74-b9e1-e4f70edbf5f9",
   "metadata": {},
   "outputs": [
    {
     "data": {
      "image/png": "[encoded data removed]",
      "text/plain": [
       "<Figure size 640x480 with 1 Axes>"
      ]
     },
     "metadata": {},
     "output_type": "display_data"
    }
   ],
   "source": [
    "# Repeated questions histogram\n",
    "\n",
    "plt.hist(qid.value_counts().values,bins=160)\n",
    "plt.yscale('log')\n",
    "plt.show()"
   ]
  },
  {
   "cell_type": "markdown",
   "id": "cc5b6387-835a-4857-814f-5d4d97c99832",
   "metadata": {},
   "source": [
    "# Feature Engineering"
   ]
  },
  {
   "cell_type": "code",
   "execution_count": 13,
   "id": "8247cafc-c273-44a1-9389-54c4d946e203",
   "metadata": {},
   "outputs": [],
   "source": [
    "#first making two columns both length of each question\n",
    "new_df['q1_len'] = new_df['question1'].str.len() \n",
    "new_df['q2_len'] = new_df['question2'].str.len()"
   ]
  },
  {
   "cell_type": "code",
   "execution_count": 14,
   "id": "702e7937-9299-471a-8105-54ed3b0c517b",
   "metadata": {},
   "outputs": [
    {
     "data": {
      "text/html": [
       "<div>\n",
       "<style scoped>\n",
       "    .dataframe tbody tr th:only-of-type {\n",
       "        vertical-align: middle;\n",
       "    }\n",
       "\n",
       "    .dataframe tbody tr th {\n",
       "        vertical-align: top;\n",
       "    }\n",
       "\n",
       "    .dataframe thead th {\n",
       "        text-align: right;\n",
       "    }\n",
       "</style>\n",
       "<table border=\"1\" class=\"dataframe\">\n",
       "  <thead>\n",
       "    <tr style=\"text-align: right;\">\n",
       "      <th></th>\n",
       "      <th>id</th>\n",
       "      <th>qid1</th>\n",
       "      <th>qid2</th>\n",
       "      <th>question1</th>\n",
       "      <th>question2</th>\n",
       "      <th>is_duplicate</th>\n",
       "      <th>q1_len</th>\n",
       "      <th>q2_len</th>\n",
       "    </tr>\n",
       "  </thead>\n",
       "  <tbody>\n",
       "    <tr>\n",
       "      <th>339499</th>\n",
       "      <td>339499</td>\n",
       "      <td>665522</td>\n",
       "      <td>665523</td>\n",
       "      <td>Why was Cyrus Mistry removed as the Chairman o...</td>\n",
       "      <td>Why did the Tata Sons sacked Cyrus Mistry?</td>\n",
       "      <td>1</td>\n",
       "      <td>58</td>\n",
       "      <td>42</td>\n",
       "    </tr>\n",
       "    <tr>\n",
       "      <th>289521</th>\n",
       "      <td>289521</td>\n",
       "      <td>568878</td>\n",
       "      <td>568879</td>\n",
       "      <td>By what age would you think a man should be ma...</td>\n",
       "      <td>When my wrist is extended I feel a shock and b...</td>\n",
       "      <td>0</td>\n",
       "      <td>52</td>\n",
       "      <td>105</td>\n",
       "    </tr>\n",
       "    <tr>\n",
       "      <th>4665</th>\n",
       "      <td>4665</td>\n",
       "      <td>9325</td>\n",
       "      <td>9326</td>\n",
       "      <td>How would an arbitrageur seek to capitalize gi...</td>\n",
       "      <td>How would an arbitrageur seek to capitalize gi...</td>\n",
       "      <td>0</td>\n",
       "      <td>125</td>\n",
       "      <td>124</td>\n",
       "    </tr>\n",
       "    <tr>\n",
       "      <th>54203</th>\n",
       "      <td>54203</td>\n",
       "      <td>107861</td>\n",
       "      <td>107862</td>\n",
       "      <td>Why did Quora mark my question as incomplete?</td>\n",
       "      <td>Why does Quora detect my question as an incomp...</td>\n",
       "      <td>1</td>\n",
       "      <td>45</td>\n",
       "      <td>60</td>\n",
       "    </tr>\n",
       "    <tr>\n",
       "      <th>132566</th>\n",
       "      <td>132566</td>\n",
       "      <td>262554</td>\n",
       "      <td>91499</td>\n",
       "      <td>What is it like working with Pivotal Labs as a...</td>\n",
       "      <td>What's it like to work at Pivotal Labs?</td>\n",
       "      <td>0</td>\n",
       "      <td>54</td>\n",
       "      <td>39</td>\n",
       "    </tr>\n",
       "  </tbody>\n",
       "</table>\n",
       "</div>"
      ],
      "text/plain": [
       "            id    qid1    qid2  \\\n",
       "339499  339499  665522  665523   \n",
       "289521  289521  568878  568879   \n",
       "4665      4665    9325    9326   \n",
       "54203    54203  107861  107862   \n",
       "132566  132566  262554   91499   \n",
       "\n",
       "                                                question1  \\\n",
       "339499  Why was Cyrus Mistry removed as the Chairman o...   \n",
       "289521  By what age would you think a man should be ma...   \n",
       "4665    How would an arbitrageur seek to capitalize gi...   \n",
       "54203       Why did Quora mark my question as incomplete?   \n",
       "132566  What is it like working with Pivotal Labs as a...   \n",
       "\n",
       "                                                question2  is_duplicate  \\\n",
       "339499         Why did the Tata Sons sacked Cyrus Mistry?             1   \n",
       "289521  When my wrist is extended I feel a shock and b...             0   \n",
       "4665    How would an arbitrageur seek to capitalize gi...             0   \n",
       "54203   Why does Quora detect my question as an incomp...             1   \n",
       "132566            What's it like to work at Pivotal Labs?             0   \n",
       "\n",
       "        q1_len  q2_len  \n",
       "339499      58      42  \n",
       "289521      52     105  \n",
       "4665       125     124  \n",
       "54203       45      60  \n",
       "132566      54      39  "
      ]
     },
     "execution_count": 14,
     "metadata": {},
     "output_type": "execute_result"
    }
   ],
   "source": [
    "new_df.head()"
   ]
  },
  {
   "cell_type": "code",
   "execution_count": 15,
   "id": "f6616ae0-bba3-4371-a631-ecc1357ed050",
   "metadata": {},
   "outputs": [
    {
     "data": {
      "text/html": [
       "<div>\n",
       "<style scoped>\n",
       "    .dataframe tbody tr th:only-of-type {\n",
       "        vertical-align: middle;\n",
       "    }\n",
       "\n",
       "    .dataframe tbody tr th {\n",
       "        vertical-align: top;\n",
       "    }\n",
       "\n",
       "    .dataframe thead th {\n",
       "        text-align: right;\n",
       "    }\n",
       "</style>\n",
       "<table border=\"1\" class=\"dataframe\">\n",
       "  <thead>\n",
       "    <tr style=\"text-align: right;\">\n",
       "      <th></th>\n",
       "      <th>id</th>\n",
       "      <th>qid1</th>\n",
       "      <th>qid2</th>\n",
       "      <th>question1</th>\n",
       "      <th>question2</th>\n",
       "      <th>is_duplicate</th>\n",
       "      <th>q1_len</th>\n",
       "      <th>q2_len</th>\n",
       "      <th>q1_num_words</th>\n",
       "      <th>q2_num_words</th>\n",
       "    </tr>\n",
       "  </thead>\n",
       "  <tbody>\n",
       "    <tr>\n",
       "      <th>339499</th>\n",
       "      <td>339499</td>\n",
       "      <td>665522</td>\n",
       "      <td>665523</td>\n",
       "      <td>Why was Cyrus Mistry removed as the Chairman o...</td>\n",
       "      <td>Why did the Tata Sons sacked Cyrus Mistry?</td>\n",
       "      <td>1</td>\n",
       "      <td>58</td>\n",
       "      <td>42</td>\n",
       "      <td>11</td>\n",
       "      <td>8</td>\n",
       "    </tr>\n",
       "    <tr>\n",
       "      <th>289521</th>\n",
       "      <td>289521</td>\n",
       "      <td>568878</td>\n",
       "      <td>568879</td>\n",
       "      <td>By what age would you think a man should be ma...</td>\n",
       "      <td>When my wrist is extended I feel a shock and b...</td>\n",
       "      <td>0</td>\n",
       "      <td>52</td>\n",
       "      <td>105</td>\n",
       "      <td>11</td>\n",
       "      <td>22</td>\n",
       "    </tr>\n",
       "    <tr>\n",
       "      <th>4665</th>\n",
       "      <td>4665</td>\n",
       "      <td>9325</td>\n",
       "      <td>9326</td>\n",
       "      <td>How would an arbitrageur seek to capitalize gi...</td>\n",
       "      <td>How would an arbitrageur seek to capitalize gi...</td>\n",
       "      <td>0</td>\n",
       "      <td>125</td>\n",
       "      <td>124</td>\n",
       "      <td>24</td>\n",
       "      <td>24</td>\n",
       "    </tr>\n",
       "    <tr>\n",
       "      <th>54203</th>\n",
       "      <td>54203</td>\n",
       "      <td>107861</td>\n",
       "      <td>107862</td>\n",
       "      <td>Why did Quora mark my question as incomplete?</td>\n",
       "      <td>Why does Quora detect my question as an incomp...</td>\n",
       "      <td>1</td>\n",
       "      <td>45</td>\n",
       "      <td>60</td>\n",
       "      <td>8</td>\n",
       "      <td>10</td>\n",
       "    </tr>\n",
       "    <tr>\n",
       "      <th>132566</th>\n",
       "      <td>132566</td>\n",
       "      <td>262554</td>\n",
       "      <td>91499</td>\n",
       "      <td>What is it like working with Pivotal Labs as a...</td>\n",
       "      <td>What's it like to work at Pivotal Labs?</td>\n",
       "      <td>0</td>\n",
       "      <td>54</td>\n",
       "      <td>39</td>\n",
       "      <td>11</td>\n",
       "      <td>8</td>\n",
       "    </tr>\n",
       "  </tbody>\n",
       "</table>\n",
       "</div>"
      ],
      "text/plain": [
       "            id    qid1    qid2  \\\n",
       "339499  339499  665522  665523   \n",
       "289521  289521  568878  568879   \n",
       "4665      4665    9325    9326   \n",
       "54203    54203  107861  107862   \n",
       "132566  132566  262554   91499   \n",
       "\n",
       "                                                question1  \\\n",
       "339499  Why was Cyrus Mistry removed as the Chairman o...   \n",
       "289521  By what age would you think a man should be ma...   \n",
       "4665    How would an arbitrageur seek to capitalize gi...   \n",
       "54203       Why did Quora mark my question as incomplete?   \n",
       "132566  What is it like working with Pivotal Labs as a...   \n",
       "\n",
       "                                                question2  is_duplicate  \\\n",
       "339499         Why did the Tata Sons sacked Cyrus Mistry?             1   \n",
       "289521  When my wrist is extended I feel a shock and b...             0   \n",
       "4665    How would an arbitrageur seek to capitalize gi...             0   \n",
       "54203   Why does Quora detect my question as an incomp...             1   \n",
       "132566            What's it like to work at Pivotal Labs?             0   \n",
       "\n",
       "        q1_len  q2_len  q1_num_words  q2_num_words  \n",
       "339499      58      42            11             8  \n",
       "289521      52     105            11            22  \n",
       "4665       125     124            24            24  \n",
       "54203       45      60             8            10  \n",
       "132566      54      39            11             8  "
      ]
     },
     "execution_count": 15,
     "metadata": {},
     "output_type": "execute_result"
    }
   ],
   "source": [
    "#add two more columns with number of words in a question\n",
    "\n",
    "new_df['q1_num_words'] = new_df['question1'].apply(lambda row: len(row.split(\" \")))\n",
    "new_df['q2_num_words'] = new_df['question2'].apply(lambda row: len(row.split(\" \")))\n",
    "new_df.head()"
   ]
  },
  {
   "cell_type": "code",
   "execution_count": 16,
   "id": "5ca9b279-5db7-4d3a-9e28-7863a2d89cd5",
   "metadata": {},
   "outputs": [],
   "source": [
    "#Now find the common words\n",
    "#passing a row in which both ques1 and ques2 will be there\n",
    "def common_words(row):\n",
    "    w1 = set(map(lambda word: word.lower().strip(), row['question1'].split(\" \")))\n",
    "    w2 = set(map(lambda word: word.lower().strip(), row['question2'].split(\" \")))    \n",
    "    return len(w1 & w2)"
   ]
  },
  {
   "cell_type": "code",
   "execution_count": 20,
   "id": "2b9c4650-d3f7-44e6-8231-d88812f90c30",
   "metadata": {},
   "outputs": [
    {
     "data": {
      "text/plain": [
       "['i', 'am', 'poor', 'but', 'i', 'want', 'to', 'invest']"
      ]
     },
     "execution_count": 20,
     "metadata": {},
     "output_type": "execute_result"
    }
   ],
   "source": [
    "list(map(lambda word: word.lower().strip(),\"I am poor but I want to invest\".split(\" \")))"
   ]
  },
  {
   "cell_type": "code",
   "execution_count": 23,
   "id": "ed81420b-1709-4208-b027-035f02c04d23",
   "metadata": {},
   "outputs": [
    {
     "data": {
      "text/plain": [
       "{'am', 'but', 'i', 'invest', 'poor', 'to', 'want'}"
      ]
     },
     "execution_count": 23,
     "metadata": {},
     "output_type": "execute_result"
    }
   ],
   "source": [
    "set(map(lambda word: word.lower().strip(),\"I am poor but I want to invest\".split(\" \")))\n",
    "#removed the duplicate"
   ]
  },
  {
   "cell_type": "code",
   "execution_count": 17,
   "id": "008e1026-d26f-4796-a37d-d2751ebadcb8",
   "metadata": {},
   "outputs": [
    {
     "data": {
      "text/html": [
       "<div>\n",
       "<style scoped>\n",
       "    .dataframe tbody tr th:only-of-type {\n",
       "        vertical-align: middle;\n",
       "    }\n",
       "\n",
       "    .dataframe tbody tr th {\n",
       "        vertical-align: top;\n",
       "    }\n",
       "\n",
       "    .dataframe thead th {\n",
       "        text-align: right;\n",
       "    }\n",
       "</style>\n",
       "<table border=\"1\" class=\"dataframe\">\n",
       "  <thead>\n",
       "    <tr style=\"text-align: right;\">\n",
       "      <th></th>\n",
       "      <th>id</th>\n",
       "      <th>qid1</th>\n",
       "      <th>qid2</th>\n",
       "      <th>question1</th>\n",
       "      <th>question2</th>\n",
       "      <th>is_duplicate</th>\n",
       "      <th>q1_len</th>\n",
       "      <th>q2_len</th>\n",
       "      <th>q1_num_words</th>\n",
       "      <th>q2_num_words</th>\n",
       "      <th>word_common</th>\n",
       "    </tr>\n",
       "  </thead>\n",
       "  <tbody>\n",
       "    <tr>\n",
       "      <th>339499</th>\n",
       "      <td>339499</td>\n",
       "      <td>665522</td>\n",
       "      <td>665523</td>\n",
       "      <td>Why was Cyrus Mistry removed as the Chairman o...</td>\n",
       "      <td>Why did the Tata Sons sacked Cyrus Mistry?</td>\n",
       "      <td>1</td>\n",
       "      <td>58</td>\n",
       "      <td>42</td>\n",
       "      <td>11</td>\n",
       "      <td>8</td>\n",
       "      <td>4</td>\n",
       "    </tr>\n",
       "    <tr>\n",
       "      <th>289521</th>\n",
       "      <td>289521</td>\n",
       "      <td>568878</td>\n",
       "      <td>568879</td>\n",
       "      <td>By what age would you think a man should be ma...</td>\n",
       "      <td>When my wrist is extended I feel a shock and b...</td>\n",
       "      <td>0</td>\n",
       "      <td>52</td>\n",
       "      <td>105</td>\n",
       "      <td>11</td>\n",
       "      <td>22</td>\n",
       "      <td>2</td>\n",
       "    </tr>\n",
       "    <tr>\n",
       "      <th>4665</th>\n",
       "      <td>4665</td>\n",
       "      <td>9325</td>\n",
       "      <td>9326</td>\n",
       "      <td>How would an arbitrageur seek to capitalize gi...</td>\n",
       "      <td>How would an arbitrageur seek to capitalize gi...</td>\n",
       "      <td>0</td>\n",
       "      <td>125</td>\n",
       "      <td>124</td>\n",
       "      <td>24</td>\n",
       "      <td>24</td>\n",
       "      <td>20</td>\n",
       "    </tr>\n",
       "    <tr>\n",
       "      <th>54203</th>\n",
       "      <td>54203</td>\n",
       "      <td>107861</td>\n",
       "      <td>107862</td>\n",
       "      <td>Why did Quora mark my question as incomplete?</td>\n",
       "      <td>Why does Quora detect my question as an incomp...</td>\n",
       "      <td>1</td>\n",
       "      <td>45</td>\n",
       "      <td>60</td>\n",
       "      <td>8</td>\n",
       "      <td>10</td>\n",
       "      <td>5</td>\n",
       "    </tr>\n",
       "    <tr>\n",
       "      <th>132566</th>\n",
       "      <td>132566</td>\n",
       "      <td>262554</td>\n",
       "      <td>91499</td>\n",
       "      <td>What is it like working with Pivotal Labs as a...</td>\n",
       "      <td>What's it like to work at Pivotal Labs?</td>\n",
       "      <td>0</td>\n",
       "      <td>54</td>\n",
       "      <td>39</td>\n",
       "      <td>11</td>\n",
       "      <td>8</td>\n",
       "      <td>3</td>\n",
       "    </tr>\n",
       "  </tbody>\n",
       "</table>\n",
       "</div>"
      ],
      "text/plain": [
       "            id    qid1    qid2  \\\n",
       "339499  339499  665522  665523   \n",
       "289521  289521  568878  568879   \n",
       "4665      4665    9325    9326   \n",
       "54203    54203  107861  107862   \n",
       "132566  132566  262554   91499   \n",
       "\n",
       "                                                question1  \\\n",
       "339499  Why was Cyrus Mistry removed as the Chairman o...   \n",
       "289521  By what age would you think a man should be ma...   \n",
       "4665    How would an arbitrageur seek to capitalize gi...   \n",
       "54203       Why did Quora mark my question as incomplete?   \n",
       "132566  What is it like working with Pivotal Labs as a...   \n",
       "\n",
       "                                                question2  is_duplicate  \\\n",
       "339499         Why did the Tata Sons sacked Cyrus Mistry?             1   \n",
       "289521  When my wrist is extended I feel a shock and b...             0   \n",
       "4665    How would an arbitrageur seek to capitalize gi...             0   \n",
       "54203   Why does Quora detect my question as an incomp...             1   \n",
       "132566            What's it like to work at Pivotal Labs?             0   \n",
       "\n",
       "        q1_len  q2_len  q1_num_words  q2_num_words  word_common  \n",
       "339499      58      42            11             8            4  \n",
       "289521      52     105            11            22            2  \n",
       "4665       125     124            24            24           20  \n",
       "54203       45      60             8            10            5  \n",
       "132566      54      39            11             8            3  "
      ]
     },
     "execution_count": 17,
     "metadata": {},
     "output_type": "execute_result"
    }
   ],
   "source": [
    "new_df['word_common'] = new_df.apply(common_words, axis=1)\n",
    "new_df.head()"
   ]
  },
  {
   "cell_type": "code",
   "execution_count": 24,
   "id": "847a2422-2652-4f99-8bff-ebc3ca9d23d4",
   "metadata": {},
   "outputs": [],
   "source": [
    "#total words\n",
    "def total_words(row):\n",
    "    w1 = set(map(lambda word: word.lower().strip(), row['question1'].split(\" \")))\n",
    "    w2 = set(map(lambda word: word.lower().strip(), row['question2'].split(\" \")))    \n",
    "    return (len(w1) + len(w2))"
   ]
  },
  {
   "cell_type": "code",
   "execution_count": 25,
   "id": "545e20a2-c1d3-4ce2-a7f1-38b39d372aba",
   "metadata": {},
   "outputs": [
    {
     "data": {
      "text/html": [
       "<div>\n",
       "<style scoped>\n",
       "    .dataframe tbody tr th:only-of-type {\n",
       "        vertical-align: middle;\n",
       "    }\n",
       "\n",
       "    .dataframe tbody tr th {\n",
       "        vertical-align: top;\n",
       "    }\n",
       "\n",
       "    .dataframe thead th {\n",
       "        text-align: right;\n",
       "    }\n",
       "</style>\n",
       "<table border=\"1\" class=\"dataframe\">\n",
       "  <thead>\n",
       "    <tr style=\"text-align: right;\">\n",
       "      <th></th>\n",
       "      <th>id</th>\n",
       "      <th>qid1</th>\n",
       "      <th>qid2</th>\n",
       "      <th>question1</th>\n",
       "      <th>question2</th>\n",
       "      <th>is_duplicate</th>\n",
       "      <th>q1_len</th>\n",
       "      <th>q2_len</th>\n",
       "      <th>q1_num_words</th>\n",
       "      <th>q2_num_words</th>\n",
       "      <th>word_common</th>\n",
       "      <th>word_total</th>\n",
       "    </tr>\n",
       "  </thead>\n",
       "  <tbody>\n",
       "    <tr>\n",
       "      <th>339499</th>\n",
       "      <td>339499</td>\n",
       "      <td>665522</td>\n",
       "      <td>665523</td>\n",
       "      <td>Why was Cyrus Mistry removed as the Chairman o...</td>\n",
       "      <td>Why did the Tata Sons sacked Cyrus Mistry?</td>\n",
       "      <td>1</td>\n",
       "      <td>58</td>\n",
       "      <td>42</td>\n",
       "      <td>11</td>\n",
       "      <td>8</td>\n",
       "      <td>4</td>\n",
       "      <td>19</td>\n",
       "    </tr>\n",
       "    <tr>\n",
       "      <th>289521</th>\n",
       "      <td>289521</td>\n",
       "      <td>568878</td>\n",
       "      <td>568879</td>\n",
       "      <td>By what age would you think a man should be ma...</td>\n",
       "      <td>When my wrist is extended I feel a shock and b...</td>\n",
       "      <td>0</td>\n",
       "      <td>52</td>\n",
       "      <td>105</td>\n",
       "      <td>11</td>\n",
       "      <td>22</td>\n",
       "      <td>2</td>\n",
       "      <td>32</td>\n",
       "    </tr>\n",
       "    <tr>\n",
       "      <th>4665</th>\n",
       "      <td>4665</td>\n",
       "      <td>9325</td>\n",
       "      <td>9326</td>\n",
       "      <td>How would an arbitrageur seek to capitalize gi...</td>\n",
       "      <td>How would an arbitrageur seek to capitalize gi...</td>\n",
       "      <td>0</td>\n",
       "      <td>125</td>\n",
       "      <td>124</td>\n",
       "      <td>24</td>\n",
       "      <td>24</td>\n",
       "      <td>20</td>\n",
       "      <td>42</td>\n",
       "    </tr>\n",
       "    <tr>\n",
       "      <th>54203</th>\n",
       "      <td>54203</td>\n",
       "      <td>107861</td>\n",
       "      <td>107862</td>\n",
       "      <td>Why did Quora mark my question as incomplete?</td>\n",
       "      <td>Why does Quora detect my question as an incomp...</td>\n",
       "      <td>1</td>\n",
       "      <td>45</td>\n",
       "      <td>60</td>\n",
       "      <td>8</td>\n",
       "      <td>10</td>\n",
       "      <td>5</td>\n",
       "      <td>18</td>\n",
       "    </tr>\n",
       "    <tr>\n",
       "      <th>132566</th>\n",
       "      <td>132566</td>\n",
       "      <td>262554</td>\n",
       "      <td>91499</td>\n",
       "      <td>What is it like working with Pivotal Labs as a...</td>\n",
       "      <td>What's it like to work at Pivotal Labs?</td>\n",
       "      <td>0</td>\n",
       "      <td>54</td>\n",
       "      <td>39</td>\n",
       "      <td>11</td>\n",
       "      <td>8</td>\n",
       "      <td>3</td>\n",
       "      <td>19</td>\n",
       "    </tr>\n",
       "  </tbody>\n",
       "</table>\n",
       "</div>"
      ],
      "text/plain": [
       "            id    qid1    qid2  \\\n",
       "339499  339499  665522  665523   \n",
       "289521  289521  568878  568879   \n",
       "4665      4665    9325    9326   \n",
       "54203    54203  107861  107862   \n",
       "132566  132566  262554   91499   \n",
       "\n",
       "                                                question1  \\\n",
       "339499  Why was Cyrus Mistry removed as the Chairman o...   \n",
       "289521  By what age would you think a man should be ma...   \n",
       "4665    How would an arbitrageur seek to capitalize gi...   \n",
       "54203       Why did Quora mark my question as incomplete?   \n",
       "132566  What is it like working with Pivotal Labs as a...   \n",
       "\n",
       "                                                question2  is_duplicate  \\\n",
       "339499         Why did the Tata Sons sacked Cyrus Mistry?             1   \n",
       "289521  When my wrist is extended I feel a shock and b...             0   \n",
       "4665    How would an arbitrageur seek to capitalize gi...             0   \n",
       "54203   Why does Quora detect my question as an incomp...             1   \n",
       "132566            What's it like to work at Pivotal Labs?             0   \n",
       "\n",
       "        q1_len  q2_len  q1_num_words  q2_num_words  word_common  word_total  \n",
       "339499      58      42            11             8            4          19  \n",
       "289521      52     105            11            22            2          32  \n",
       "4665       125     124            24            24           20          42  \n",
       "54203       45      60             8            10            5          18  \n",
       "132566      54      39            11             8            3          19  "
      ]
     },
     "execution_count": 25,
     "metadata": {},
     "output_type": "execute_result"
    }
   ],
   "source": [
    "new_df['word_total'] = new_df.apply(total_words, axis=1)\n",
    "new_df.head()"
   ]
  },
  {
   "cell_type": "code",
   "execution_count": 26,
   "id": "fc602834-10f7-4145-ada3-195893f01e86",
   "metadata": {},
   "outputs": [
    {
     "data": {
      "text/html": [
       "<div>\n",
       "<style scoped>\n",
       "    .dataframe tbody tr th:only-of-type {\n",
       "        vertical-align: middle;\n",
       "    }\n",
       "\n",
       "    .dataframe tbody tr th {\n",
       "        vertical-align: top;\n",
       "    }\n",
       "\n",
       "    .dataframe thead th {\n",
       "        text-align: right;\n",
       "    }\n",
       "</style>\n",
       "<table border=\"1\" class=\"dataframe\">\n",
       "  <thead>\n",
       "    <tr style=\"text-align: right;\">\n",
       "      <th></th>\n",
       "      <th>id</th>\n",
       "      <th>qid1</th>\n",
       "      <th>qid2</th>\n",
       "      <th>question1</th>\n",
       "      <th>question2</th>\n",
       "      <th>is_duplicate</th>\n",
       "      <th>q1_len</th>\n",
       "      <th>q2_len</th>\n",
       "      <th>q1_num_words</th>\n",
       "      <th>q2_num_words</th>\n",
       "      <th>word_common</th>\n",
       "      <th>word_total</th>\n",
       "      <th>word_share</th>\n",
       "    </tr>\n",
       "  </thead>\n",
       "  <tbody>\n",
       "    <tr>\n",
       "      <th>339499</th>\n",
       "      <td>339499</td>\n",
       "      <td>665522</td>\n",
       "      <td>665523</td>\n",
       "      <td>Why was Cyrus Mistry removed as the Chairman o...</td>\n",
       "      <td>Why did the Tata Sons sacked Cyrus Mistry?</td>\n",
       "      <td>1</td>\n",
       "      <td>58</td>\n",
       "      <td>42</td>\n",
       "      <td>11</td>\n",
       "      <td>8</td>\n",
       "      <td>4</td>\n",
       "      <td>19</td>\n",
       "      <td>0.21</td>\n",
       "    </tr>\n",
       "    <tr>\n",
       "      <th>289521</th>\n",
       "      <td>289521</td>\n",
       "      <td>568878</td>\n",
       "      <td>568879</td>\n",
       "      <td>By what age would you think a man should be ma...</td>\n",
       "      <td>When my wrist is extended I feel a shock and b...</td>\n",
       "      <td>0</td>\n",
       "      <td>52</td>\n",
       "      <td>105</td>\n",
       "      <td>11</td>\n",
       "      <td>22</td>\n",
       "      <td>2</td>\n",
       "      <td>32</td>\n",
       "      <td>0.06</td>\n",
       "    </tr>\n",
       "    <tr>\n",
       "      <th>4665</th>\n",
       "      <td>4665</td>\n",
       "      <td>9325</td>\n",
       "      <td>9326</td>\n",
       "      <td>How would an arbitrageur seek to capitalize gi...</td>\n",
       "      <td>How would an arbitrageur seek to capitalize gi...</td>\n",
       "      <td>0</td>\n",
       "      <td>125</td>\n",
       "      <td>124</td>\n",
       "      <td>24</td>\n",
       "      <td>24</td>\n",
       "      <td>20</td>\n",
       "      <td>42</td>\n",
       "      <td>0.48</td>\n",
       "    </tr>\n",
       "    <tr>\n",
       "      <th>54203</th>\n",
       "      <td>54203</td>\n",
       "      <td>107861</td>\n",
       "      <td>107862</td>\n",
       "      <td>Why did Quora mark my question as incomplete?</td>\n",
       "      <td>Why does Quora detect my question as an incomp...</td>\n",
       "      <td>1</td>\n",
       "      <td>45</td>\n",
       "      <td>60</td>\n",
       "      <td>8</td>\n",
       "      <td>10</td>\n",
       "      <td>5</td>\n",
       "      <td>18</td>\n",
       "      <td>0.28</td>\n",
       "    </tr>\n",
       "    <tr>\n",
       "      <th>132566</th>\n",
       "      <td>132566</td>\n",
       "      <td>262554</td>\n",
       "      <td>91499</td>\n",
       "      <td>What is it like working with Pivotal Labs as a...</td>\n",
       "      <td>What's it like to work at Pivotal Labs?</td>\n",
       "      <td>0</td>\n",
       "      <td>54</td>\n",
       "      <td>39</td>\n",
       "      <td>11</td>\n",
       "      <td>8</td>\n",
       "      <td>3</td>\n",
       "      <td>19</td>\n",
       "      <td>0.16</td>\n",
       "    </tr>\n",
       "  </tbody>\n",
       "</table>\n",
       "</div>"
      ],
      "text/plain": [
       "            id    qid1    qid2  \\\n",
       "339499  339499  665522  665523   \n",
       "289521  289521  568878  568879   \n",
       "4665      4665    9325    9326   \n",
       "54203    54203  107861  107862   \n",
       "132566  132566  262554   91499   \n",
       "\n",
       "                                                question1  \\\n",
       "339499  Why was Cyrus Mistry removed as the Chairman o...   \n",
       "289521  By what age would you think a man should be ma...   \n",
       "4665    How would an arbitrageur seek to capitalize gi...   \n",
       "54203       Why did Quora mark my question as incomplete?   \n",
       "132566  What is it like working with Pivotal Labs as a...   \n",
       "\n",
       "                                                question2  is_duplicate  \\\n",
       "339499         Why did the Tata Sons sacked Cyrus Mistry?             1   \n",
       "289521  When my wrist is extended I feel a shock and b...             0   \n",
       "4665    How would an arbitrageur seek to capitalize gi...             0   \n",
       "54203   Why does Quora detect my question as an incomp...             1   \n",
       "132566            What's it like to work at Pivotal Labs?             0   \n",
       "\n",
       "        q1_len  q2_len  q1_num_words  q2_num_words  word_common  word_total  \\\n",
       "339499      58      42            11             8            4          19   \n",
       "289521      52     105            11            22            2          32   \n",
       "4665       125     124            24            24           20          42   \n",
       "54203       45      60             8            10            5          18   \n",
       "132566      54      39            11             8            3          19   \n",
       "\n",
       "        word_share  \n",
       "339499        0.21  \n",
       "289521        0.06  \n",
       "4665          0.48  \n",
       "54203         0.28  \n",
       "132566        0.16  "
      ]
     },
     "execution_count": 26,
     "metadata": {},
     "output_type": "execute_result"
    }
   ],
   "source": [
    "#word share\n",
    "new_df['word_share'] = round(new_df['word_common']/new_df['word_total'],2)\n",
    "new_df.head()"
   ]
  },
  {
   "cell_type": "markdown",
   "id": "5e686638-ba57-4bd5-b321-1b7c36cbcb21",
   "metadata": {},
   "source": [
    "### so we added 7 new features into our dataframe"
   ]
  },
  {
   "cell_type": "code",
   "execution_count": 27,
   "id": "54fb6407-2256-496f-86e8-9fadf266ee21",
   "metadata": {},
   "outputs": [
    {
     "name": "stdout",
     "output_type": "stream",
     "text": [
      "minimum characters 2\n",
      "maximum characters 332\n",
      "average num of characters 59\n"
     ]
    },
    {
     "data": {
      "image/png": "[encoded data removed]",
      "text/plain": [
       "<Figure size 500x500 with 1 Axes>"
      ]
     },
     "metadata": {},
     "output_type": "display_data"
    }
   ],
   "source": [
    "# Analysis of features\n",
    "sns.displot(new_df['q1_len'])\n",
    "print('minimum characters',new_df['q1_len'].min())\n",
    "print('maximum characters',new_df['q1_len'].max())\n",
    "print('average num of characters',int(new_df['q1_len'].mean()))"
   ]
  },
  {
   "cell_type": "code",
   "execution_count": 28,
   "id": "faf693dc-66d2-4394-8383-8f6ec553799f",
   "metadata": {},
   "outputs": [
    {
     "name": "stdout",
     "output_type": "stream",
     "text": [
      "minimum characters 3\n",
      "maximum characters 1151\n",
      "average num of characters 59\n"
     ]
    },
    {
     "data": {
      "image/png": "[encoded data removed]",
      "text/plain": [
       "<Figure size 500x500 with 1 Axes>"
      ]
     },
     "metadata": {},
     "output_type": "display_data"
    }
   ],
   "source": [
    "sns.displot(new_df['q2_len'])\n",
    "print('minimum characters',new_df['q2_len'].min())\n",
    "print('maximum characters',new_df['q2_len'].max())\n",
    "print('average num of characters',int(new_df['q2_len'].mean()))"
   ]
  },
  {
   "cell_type": "code",
   "execution_count": 29,
   "id": "ebf94764-0adb-4d65-9fe0-081ccc56907e",
   "metadata": {},
   "outputs": [
    {
     "name": "stdout",
     "output_type": "stream",
     "text": [
      "minimum words 1\n",
      "maximum words 63\n",
      "average num of words 10\n"
     ]
    },
    {
     "data": {
      "image/png": "[encoded data removed]",
      "text/plain": [
       "<Figure size 500x500 with 1 Axes>"
      ]
     },
     "metadata": {},
     "output_type": "display_data"
    }
   ],
   "source": [
    "sns.displot(new_df['q1_num_words'])\n",
    "print('minimum words',new_df['q1_num_words'].min())\n",
    "print('maximum words',new_df['q1_num_words'].max())\n",
    "print('average num of words',int(new_df['q1_num_words'].mean()))"
   ]
  },
  {
   "cell_type": "code",
   "execution_count": 30,
   "id": "9bab0e25-6fd2-40df-860d-d675a9e7d62f",
   "metadata": {},
   "outputs": [
    {
     "name": "stdout",
     "output_type": "stream",
     "text": [
      "minimum words 1\n",
      "maximum words 237\n",
      "average num of words 11\n"
     ]
    },
    {
     "data": {
      "image/png": "[encoded data removed]",
      "text/plain": [
       "<Figure size 500x500 with 1 Axes>"
      ]
     },
     "metadata": {},
     "output_type": "display_data"
    }
   ],
   "source": [
    "sns.displot(new_df['q2_num_words'])\n",
    "print('minimum words',new_df['q2_num_words'].min())\n",
    "print('maximum words',new_df['q2_num_words'].max())\n",
    "print('average num of words',int(new_df['q2_num_words'].mean()))"
   ]
  },
  {
   "cell_type": "code",
   "execution_count": 31,
   "id": "54bfdfba-da02-4939-b1ed-282fb670faf1",
   "metadata": {},
   "outputs": [
    {
     "data": {
      "image/png": "[encoded data removed]",
      "text/plain": [
       "<Figure size 640x480 with 1 Axes>"
      ]
     },
     "metadata": {},
     "output_type": "display_data"
    }
   ],
   "source": [
    "# common words\n",
    "sns.distplot(new_df[new_df['is_duplicate'] == 0]['word_common'],label='non duplicate')\n",
    "sns.distplot(new_df[new_df['is_duplicate'] == 1]['word_common'],label='duplicate')\n",
    "plt.legend()\n",
    "plt.show()"
   ]
  },
  {
   "cell_type": "code",
   "execution_count": 32,
   "id": "095ccc3b-da85-4981-8b61-c5043e457a38",
   "metadata": {},
   "outputs": [
    {
     "data": {
      "image/png": "[encoded data removed]",
      "text/plain": [
       "<Figure size 640x480 with 1 Axes>"
      ]
     },
     "metadata": {},
     "output_type": "display_data"
    }
   ],
   "source": [
    "# total words\n",
    "sns.distplot(new_df[new_df['is_duplicate'] == 0]['word_total'],label='non duplicate')\n",
    "sns.distplot(new_df[new_df['is_duplicate'] == 1]['word_total'],label='duplicate')\n",
    "plt.legend()\n",
    "plt.show()"
   ]
  },
  {
   "cell_type": "code",
   "execution_count": 33,
   "id": "eda39b03-35e6-4220-8d85-71b08699e055",
   "metadata": {},
   "outputs": [
    {
     "data": {
      "image/png": "[encoded data removed]",
      "text/plain": [
       "<Figure size 640x480 with 1 Axes>"
      ]
     },
     "metadata": {},
     "output_type": "display_data"
    }
   ],
   "source": [
    "# word share\n",
    "sns.distplot(new_df[new_df['is_duplicate'] == 0]['word_share'],label='non duplicate')\n",
    "sns.distplot(new_df[new_df['is_duplicate'] == 1]['word_share'],label='duplicate')\n",
    "plt.legend()\n",
    "plt.show()"
   ]
  },
  {
   "cell_type": "code",
   "execution_count": 34,
   "id": "f40a6381-6d22-473b-b8e8-263c0d700cca",
   "metadata": {},
   "outputs": [
    {
     "data": {
      "text/html": [
       "<div>\n",
       "<style scoped>\n",
       "    .dataframe tbody tr th:only-of-type {\n",
       "        vertical-align: middle;\n",
       "    }\n",
       "\n",
       "    .dataframe tbody tr th {\n",
       "        vertical-align: top;\n",
       "    }\n",
       "\n",
       "    .dataframe thead th {\n",
       "        text-align: right;\n",
       "    }\n",
       "</style>\n",
       "<table border=\"1\" class=\"dataframe\">\n",
       "  <thead>\n",
       "    <tr style=\"text-align: right;\">\n",
       "      <th></th>\n",
       "      <th>question1</th>\n",
       "      <th>question2</th>\n",
       "    </tr>\n",
       "  </thead>\n",
       "  <tbody>\n",
       "    <tr>\n",
       "      <th>339499</th>\n",
       "      <td>Why was Cyrus Mistry removed as the Chairman o...</td>\n",
       "      <td>Why did the Tata Sons sacked Cyrus Mistry?</td>\n",
       "    </tr>\n",
       "    <tr>\n",
       "      <th>289521</th>\n",
       "      <td>By what age would you think a man should be ma...</td>\n",
       "      <td>When my wrist is extended I feel a shock and b...</td>\n",
       "    </tr>\n",
       "    <tr>\n",
       "      <th>4665</th>\n",
       "      <td>How would an arbitrageur seek to capitalize gi...</td>\n",
       "      <td>How would an arbitrageur seek to capitalize gi...</td>\n",
       "    </tr>\n",
       "    <tr>\n",
       "      <th>54203</th>\n",
       "      <td>Why did Quora mark my question as incomplete?</td>\n",
       "      <td>Why does Quora detect my question as an incomp...</td>\n",
       "    </tr>\n",
       "    <tr>\n",
       "      <th>132566</th>\n",
       "      <td>What is it like working with Pivotal Labs as a...</td>\n",
       "      <td>What's it like to work at Pivotal Labs?</td>\n",
       "    </tr>\n",
       "  </tbody>\n",
       "</table>\n",
       "</div>"
      ],
      "text/plain": [
       "                                                question1  \\\n",
       "339499  Why was Cyrus Mistry removed as the Chairman o...   \n",
       "289521  By what age would you think a man should be ma...   \n",
       "4665    How would an arbitrageur seek to capitalize gi...   \n",
       "54203       Why did Quora mark my question as incomplete?   \n",
       "132566  What is it like working with Pivotal Labs as a...   \n",
       "\n",
       "                                                question2  \n",
       "339499         Why did the Tata Sons sacked Cyrus Mistry?  \n",
       "289521  When my wrist is extended I feel a shock and b...  \n",
       "4665    How would an arbitrageur seek to capitalize gi...  \n",
       "54203   Why does Quora detect my question as an incomp...  \n",
       "132566            What's it like to work at Pivotal Labs?  "
      ]
     },
     "execution_count": 34,
     "metadata": {},
     "output_type": "execute_result"
    }
   ],
   "source": [
    "ques_df = new_df[['question1','question2']]\n",
    "ques_df.head()"
   ]
  },
  {
   "cell_type": "code",
   "execution_count": 35,
   "id": "76c702da-df1c-437d-ad35-34927adf42dd",
   "metadata": {},
   "outputs": [
    {
     "name": "stdout",
     "output_type": "stream",
     "text": [
      "(30000, 8)\n"
     ]
    },
    {
     "data": {
      "text/html": [
       "<div>\n",
       "<style scoped>\n",
       "    .dataframe tbody tr th:only-of-type {\n",
       "        vertical-align: middle;\n",
       "    }\n",
       "\n",
       "    .dataframe tbody tr th {\n",
       "        vertical-align: top;\n",
       "    }\n",
       "\n",
       "    .dataframe thead th {\n",
       "        text-align: right;\n",
       "    }\n",
       "</style>\n",
       "<table border=\"1\" class=\"dataframe\">\n",
       "  <thead>\n",
       "    <tr style=\"text-align: right;\">\n",
       "      <th></th>\n",
       "      <th>is_duplicate</th>\n",
       "      <th>q1_len</th>\n",
       "      <th>q2_len</th>\n",
       "      <th>q1_num_words</th>\n",
       "      <th>q2_num_words</th>\n",
       "      <th>word_common</th>\n",
       "      <th>word_total</th>\n",
       "      <th>word_share</th>\n",
       "    </tr>\n",
       "  </thead>\n",
       "  <tbody>\n",
       "    <tr>\n",
       "      <th>339499</th>\n",
       "      <td>1</td>\n",
       "      <td>58</td>\n",
       "      <td>42</td>\n",
       "      <td>11</td>\n",
       "      <td>8</td>\n",
       "      <td>4</td>\n",
       "      <td>19</td>\n",
       "      <td>0.21</td>\n",
       "    </tr>\n",
       "    <tr>\n",
       "      <th>289521</th>\n",
       "      <td>0</td>\n",
       "      <td>52</td>\n",
       "      <td>105</td>\n",
       "      <td>11</td>\n",
       "      <td>22</td>\n",
       "      <td>2</td>\n",
       "      <td>32</td>\n",
       "      <td>0.06</td>\n",
       "    </tr>\n",
       "    <tr>\n",
       "      <th>4665</th>\n",
       "      <td>0</td>\n",
       "      <td>125</td>\n",
       "      <td>124</td>\n",
       "      <td>24</td>\n",
       "      <td>24</td>\n",
       "      <td>20</td>\n",
       "      <td>42</td>\n",
       "      <td>0.48</td>\n",
       "    </tr>\n",
       "    <tr>\n",
       "      <th>54203</th>\n",
       "      <td>1</td>\n",
       "      <td>45</td>\n",
       "      <td>60</td>\n",
       "      <td>8</td>\n",
       "      <td>10</td>\n",
       "      <td>5</td>\n",
       "      <td>18</td>\n",
       "      <td>0.28</td>\n",
       "    </tr>\n",
       "    <tr>\n",
       "      <th>132566</th>\n",
       "      <td>0</td>\n",
       "      <td>54</td>\n",
       "      <td>39</td>\n",
       "      <td>11</td>\n",
       "      <td>8</td>\n",
       "      <td>3</td>\n",
       "      <td>19</td>\n",
       "      <td>0.16</td>\n",
       "    </tr>\n",
       "  </tbody>\n",
       "</table>\n",
       "</div>"
      ],
      "text/plain": [
       "        is_duplicate  q1_len  q2_len  q1_num_words  q2_num_words  word_common  \\\n",
       "339499             1      58      42            11             8            4   \n",
       "289521             0      52     105            11            22            2   \n",
       "4665               0     125     124            24            24           20   \n",
       "54203              1      45      60             8            10            5   \n",
       "132566             0      54      39            11             8            3   \n",
       "\n",
       "        word_total  word_share  \n",
       "339499          19        0.21  \n",
       "289521          32        0.06  \n",
       "4665            42        0.48  \n",
       "54203           18        0.28  \n",
       "132566          19        0.16  "
      ]
     },
     "execution_count": 35,
     "metadata": {},
     "output_type": "execute_result"
    }
   ],
   "source": [
    "final_df = new_df.drop(columns=['id','qid1','qid2','question1','question2'])\n",
    "print(final_df.shape)\n",
    "final_df.head()"
   ]
  },
  {
   "cell_type": "markdown",
   "id": "97631da5-df60-4fef-99c4-b84f0d4facea",
   "metadata": {},
   "source": [
    "# Divided into two dataframe\n",
    "# Now apply BoW"
   ]
  },
  {
   "cell_type": "code",
   "execution_count": 36,
   "id": "a22e4736-9d55-473c-b4d4-97f7158b01bc",
   "metadata": {},
   "outputs": [],
   "source": [
    "from sklearn.feature_extraction.text import CountVectorizer\n",
    "# merge texts\n",
    "questions = list(ques_df['question1']) + list(ques_df['question2'])\n",
    "\n",
    "cv = CountVectorizer(max_features=3000)\n",
    "q1_arr, q2_arr = np.vsplit(cv.fit_transform(questions).toarray(),2)"
   ]
  },
  {
   "cell_type": "code",
   "execution_count": 37,
   "id": "1402fdff-27ca-4f12-9765-234b38a42828",
   "metadata": {},
   "outputs": [
    {
     "data": {
      "text/plain": [
       "(30000, 6000)"
      ]
     },
     "execution_count": 37,
     "metadata": {},
     "output_type": "execute_result"
    }
   ],
   "source": [
    "temp_df1 = pd.DataFrame(q1_arr, index= ques_df.index)\n",
    "temp_df2 = pd.DataFrame(q2_arr, index= ques_df.index)\n",
    "temp_df = pd.concat([temp_df1, temp_df2], axis=1)\n",
    "temp_df.shape"
   ]
  },
  {
   "cell_type": "code",
   "execution_count": 38,
   "id": "2de6df55-5761-4a03-9df0-822be5b213bb",
   "metadata": {},
   "outputs": [
    {
     "name": "stdout",
     "output_type": "stream",
     "text": [
      "(30000, 6008)\n"
     ]
    },
    {
     "data": {
      "text/html": [
       "<div>\n",
       "<style scoped>\n",
       "    .dataframe tbody tr th:only-of-type {\n",
       "        vertical-align: middle;\n",
       "    }\n",
       "\n",
       "    .dataframe tbody tr th {\n",
       "        vertical-align: top;\n",
       "    }\n",
       "\n",
       "    .dataframe thead th {\n",
       "        text-align: right;\n",
       "    }\n",
       "</style>\n",
       "<table border=\"1\" class=\"dataframe\">\n",
       "  <thead>\n",
       "    <tr style=\"text-align: right;\">\n",
       "      <th></th>\n",
       "      <th>is_duplicate</th>\n",
       "      <th>q1_len</th>\n",
       "      <th>q2_len</th>\n",
       "      <th>q1_num_words</th>\n",
       "      <th>q2_num_words</th>\n",
       "      <th>word_common</th>\n",
       "      <th>word_total</th>\n",
       "      <th>word_share</th>\n",
       "      <th>0</th>\n",
       "      <th>1</th>\n",
       "      <th>...</th>\n",
       "      <th>2990</th>\n",
       "      <th>2991</th>\n",
       "      <th>2992</th>\n",
       "      <th>2993</th>\n",
       "      <th>2994</th>\n",
       "      <th>2995</th>\n",
       "      <th>2996</th>\n",
       "      <th>2997</th>\n",
       "      <th>2998</th>\n",
       "      <th>2999</th>\n",
       "    </tr>\n",
       "  </thead>\n",
       "  <tbody>\n",
       "    <tr>\n",
       "      <th>339499</th>\n",
       "      <td>1</td>\n",
       "      <td>58</td>\n",
       "      <td>42</td>\n",
       "      <td>11</td>\n",
       "      <td>8</td>\n",
       "      <td>4</td>\n",
       "      <td>19</td>\n",
       "      <td>0.21</td>\n",
       "      <td>0</td>\n",
       "      <td>0</td>\n",
       "      <td>...</td>\n",
       "      <td>0</td>\n",
       "      <td>0</td>\n",
       "      <td>0</td>\n",
       "      <td>0</td>\n",
       "      <td>0</td>\n",
       "      <td>0</td>\n",
       "      <td>0</td>\n",
       "      <td>0</td>\n",
       "      <td>0</td>\n",
       "      <td>0</td>\n",
       "    </tr>\n",
       "    <tr>\n",
       "      <th>289521</th>\n",
       "      <td>0</td>\n",
       "      <td>52</td>\n",
       "      <td>105</td>\n",
       "      <td>11</td>\n",
       "      <td>22</td>\n",
       "      <td>2</td>\n",
       "      <td>32</td>\n",
       "      <td>0.06</td>\n",
       "      <td>0</td>\n",
       "      <td>0</td>\n",
       "      <td>...</td>\n",
       "      <td>0</td>\n",
       "      <td>0</td>\n",
       "      <td>0</td>\n",
       "      <td>0</td>\n",
       "      <td>0</td>\n",
       "      <td>0</td>\n",
       "      <td>0</td>\n",
       "      <td>0</td>\n",
       "      <td>0</td>\n",
       "      <td>0</td>\n",
       "    </tr>\n",
       "    <tr>\n",
       "      <th>4665</th>\n",
       "      <td>0</td>\n",
       "      <td>125</td>\n",
       "      <td>124</td>\n",
       "      <td>24</td>\n",
       "      <td>24</td>\n",
       "      <td>20</td>\n",
       "      <td>42</td>\n",
       "      <td>0.48</td>\n",
       "      <td>0</td>\n",
       "      <td>0</td>\n",
       "      <td>...</td>\n",
       "      <td>0</td>\n",
       "      <td>0</td>\n",
       "      <td>0</td>\n",
       "      <td>0</td>\n",
       "      <td>0</td>\n",
       "      <td>0</td>\n",
       "      <td>0</td>\n",
       "      <td>0</td>\n",
       "      <td>0</td>\n",
       "      <td>0</td>\n",
       "    </tr>\n",
       "    <tr>\n",
       "      <th>54203</th>\n",
       "      <td>1</td>\n",
       "      <td>45</td>\n",
       "      <td>60</td>\n",
       "      <td>8</td>\n",
       "      <td>10</td>\n",
       "      <td>5</td>\n",
       "      <td>18</td>\n",
       "      <td>0.28</td>\n",
       "      <td>0</td>\n",
       "      <td>0</td>\n",
       "      <td>...</td>\n",
       "      <td>0</td>\n",
       "      <td>0</td>\n",
       "      <td>0</td>\n",
       "      <td>0</td>\n",
       "      <td>0</td>\n",
       "      <td>0</td>\n",
       "      <td>0</td>\n",
       "      <td>0</td>\n",
       "      <td>0</td>\n",
       "      <td>0</td>\n",
       "    </tr>\n",
       "    <tr>\n",
       "      <th>132566</th>\n",
       "      <td>0</td>\n",
       "      <td>54</td>\n",
       "      <td>39</td>\n",
       "      <td>11</td>\n",
       "      <td>8</td>\n",
       "      <td>3</td>\n",
       "      <td>19</td>\n",
       "      <td>0.16</td>\n",
       "      <td>0</td>\n",
       "      <td>0</td>\n",
       "      <td>...</td>\n",
       "      <td>0</td>\n",
       "      <td>0</td>\n",
       "      <td>0</td>\n",
       "      <td>0</td>\n",
       "      <td>0</td>\n",
       "      <td>0</td>\n",
       "      <td>0</td>\n",
       "      <td>0</td>\n",
       "      <td>0</td>\n",
       "      <td>0</td>\n",
       "    </tr>\n",
       "  </tbody>\n",
       "</table>\n",
       "<p>5 rows × 6008 columns</p>\n",
       "</div>"
      ],
      "text/plain": [
       "        is_duplicate  q1_len  q2_len  q1_num_words  q2_num_words  word_common  \\\n",
       "339499             1      58      42            11             8            4   \n",
       "289521             0      52     105            11            22            2   \n",
       "4665               0     125     124            24            24           20   \n",
       "54203              1      45      60             8            10            5   \n",
       "132566             0      54      39            11             8            3   \n",
       "\n",
       "        word_total  word_share  0  1  ...  2990  2991  2992  2993  2994  2995  \\\n",
       "339499          19        0.21  0  0  ...     0     0     0     0     0     0   \n",
       "289521          32        0.06  0  0  ...     0     0     0     0     0     0   \n",
       "4665            42        0.48  0  0  ...     0     0     0     0     0     0   \n",
       "54203           18        0.28  0  0  ...     0     0     0     0     0     0   \n",
       "132566          19        0.16  0  0  ...     0     0     0     0     0     0   \n",
       "\n",
       "        2996  2997  2998  2999  \n",
       "339499     0     0     0     0  \n",
       "289521     0     0     0     0  \n",
       "4665       0     0     0     0  \n",
       "54203      0     0     0     0  \n",
       "132566     0     0     0     0  \n",
       "\n",
       "[5 rows x 6008 columns]"
      ]
     },
     "execution_count": 38,
     "metadata": {},
     "output_type": "execute_result"
    }
   ],
   "source": [
    "#conconate both the dataframe\n",
    "final_df = pd.concat([final_df, temp_df], axis=1)\n",
    "print(final_df.shape)\n",
    "final_df.head()"
   ]
  },
  {
   "cell_type": "code",
   "execution_count": 39,
   "id": "2604b56a-30d1-4434-8775-537fd4d611d8",
   "metadata": {},
   "outputs": [],
   "source": [
    "from sklearn.model_selection import train_test_split\n",
    "X_train,X_test,y_train,y_test = train_test_split(final_df.iloc[:,1:].values,final_df.iloc[:,0].values,test_size=0.2,random_state=1)"
   ]
  },
  {
   "cell_type": "code",
   "execution_count": 40,
   "id": "6bfd926a-82fd-4a77-90f6-ef604c3a655a",
   "metadata": {},
   "outputs": [
    {
     "data": {
      "text/plain": [
       "0.7671666666666667"
      ]
     },
     "execution_count": 40,
     "metadata": {},
     "output_type": "execute_result"
    }
   ],
   "source": [
    "from sklearn.ensemble import RandomForestClassifier\n",
    "from sklearn.metrics import accuracy_score\n",
    "rf = RandomForestClassifier()\n",
    "rf.fit(X_train,y_train)\n",
    "y_pred = rf.predict(X_test)\n",
    "accuracy_score(y_test,y_pred)"
   ]
  },
  {
   "cell_type": "code",
   "execution_count": 41,
   "id": "418f86c2-9072-4dcd-b2ee-76279c7ad1ba",
   "metadata": {},
   "outputs": [
    {
     "data": {
      "text/plain": [
       "0.7691666666666667"
      ]
     },
     "execution_count": 41,
     "metadata": {},
     "output_type": "execute_result"
    }
   ],
   "source": [
    "from xgboost import XGBClassifier\n",
    "xgb = XGBClassifier()\n",
    "xgb.fit(X_train,y_train)\n",
    "y_pred = xgb.predict(X_test)\n",
    "accuracy_score(y_test,y_pred)"
   ]
  },
  {
   "cell_type": "markdown",
   "id": "1e079f26-1d59-42eb-a158-74975929f7d6",
   "metadata": {},
   "source": [
    "# Advanced Features\n",
    "#### 1. Token Features\n",
    "##### cwc_min: This is the ratio of the number of common words to the length of the smaller question\n",
    "##### cwc_max: This is the ratio of the number of common words to the length of the larger question\n",
    "##### csc_min: This is the ratio of the number of common stop words to the smaller stop word count among the two questions\n",
    "##### csc_max: This is the ratio of the number of common stop words to the larger stop word count among the two questions\n",
    "##### ctc_min: This is the ratio of the number of common tokens to the smaller token count among the two questions\n",
    "##### ctc_max: This is the ratio of the number of common tokens to the larger token count among the two questions\n",
    "##### last_word_eq: 1 if the last word in the two questions is same, 0 otherwise\n",
    "##### first_word_eq: 1 if the first word in the two questions is same, 0 otherwise\n",
    "#### 2. Length Based Features\n",
    "##### mean_len: Mean of the length of the two questions (number of words)\n",
    "##### abs_len_diff: Absolute difference between the length of the two questions (number of words)\n",
    "##### longest_substr_ratio: Ratio of the length of the longest substring among the two questions to the length of the smaller question\n",
    "##### fuzz_ratio: fuzz_ratio score from fuzzywuzzy\n",
    "##### fuzz_partial_ratio: fuzz_partial_ratio from fuzzywuzzy\n",
    "##### token_sort_ratio: token_sort_ratio from fuzzywuzzy\n",
    "##### token_set_ratio: token_set_ratio from fuzzywuzzy"
   ]
  },
  {
   "cell_type": "markdown",
   "id": "c2283df6-aad0-4f37-8c63-d4bdb2e6b49a",
   "metadata": {},
   "source": [
    "# Will add above features in the next notebook"
   ]
  },
  {
   "cell_type": "code",
   "execution_count": null,
   "id": "12c074ca-6a13-46eb-bae3-cf2079fb1b3c",
   "metadata": {},
   "outputs": [],
   "source": []
  }
 ],
 "metadata": {
  "kernelspec": {
   "display_name": "Python 3 (ipykernel)",
   "language": "python",
   "name": "python3"
  },
  "language_info": {
   "codemirror_mode": {
    "name": "ipython",
    "version": 3
   },
   "file_extension": ".py",
   "mimetype": "text/x-python",
   "name": "python",
   "nbconvert_exporter": "python",
   "pygments_lexer": "ipython3",
   "version": "3.12.7"
  }
 },
 "nbformat": 4,
 "nbformat_minor": 5
}
