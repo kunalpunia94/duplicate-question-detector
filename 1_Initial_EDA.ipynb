{
 "cells": [
  {
   "cell_type": "code",
   "execution_count": 1,
   "id": "8894bd8e-f929-4517-997e-7f5e988932f6",
   "metadata": {},
   "outputs": [],
   "source": [
    "import numpy as np\n",
    "import pandas as pd\n",
    "import seaborn as sns\n",
    "import matplotlib.pyplot as plt"
   ]
  },
  {
   "cell_type": "code",
   "execution_count": 2,
   "id": "26141e1d-225c-46c1-8014-4c7752108fb2",
   "metadata": {},
   "outputs": [],
   "source": [
    "df = pd.read_csv(r\"D:\\Data Science\\NLP\\Day7_Duplicate_question_pair\\questions.csv\")"
   ]
  },
  {
   "cell_type": "code",
   "execution_count": 3,
   "id": "8ccccbb3-7e5a-4f20-8c64-9204831af919",
   "metadata": {},
   "outputs": [
    {
     "data": {
      "text/html": [
       "<div>\n",
       "<style scoped>\n",
       "    .dataframe tbody tr th:only-of-type {\n",
       "        vertical-align: middle;\n",
       "    }\n",
       "\n",
       "    .dataframe tbody tr th {\n",
       "        vertical-align: top;\n",
       "    }\n",
       "\n",
       "    .dataframe thead th {\n",
       "        text-align: right;\n",
       "    }\n",
       "</style>\n",
       "<table border=\"1\" class=\"dataframe\">\n",
       "  <thead>\n",
       "    <tr style=\"text-align: right;\">\n",
       "      <th></th>\n",
       "      <th>id</th>\n",
       "      <th>qid1</th>\n",
       "      <th>qid2</th>\n",
       "      <th>question1</th>\n",
       "      <th>question2</th>\n",
       "      <th>is_duplicate</th>\n",
       "    </tr>\n",
       "  </thead>\n",
       "  <tbody>\n",
       "    <tr>\n",
       "      <th>0</th>\n",
       "      <td>0</td>\n",
       "      <td>1</td>\n",
       "      <td>2</td>\n",
       "      <td>What is the step by step guide to invest in sh...</td>\n",
       "      <td>What is the step by step guide to invest in sh...</td>\n",
       "      <td>0</td>\n",
       "    </tr>\n",
       "    <tr>\n",
       "      <th>1</th>\n",
       "      <td>1</td>\n",
       "      <td>3</td>\n",
       "      <td>4</td>\n",
       "      <td>What is the story of Kohinoor (Koh-i-Noor) Dia...</td>\n",
       "      <td>What would happen if the Indian government sto...</td>\n",
       "      <td>0</td>\n",
       "    </tr>\n",
       "    <tr>\n",
       "      <th>2</th>\n",
       "      <td>2</td>\n",
       "      <td>5</td>\n",
       "      <td>6</td>\n",
       "      <td>How can I increase the speed of my internet co...</td>\n",
       "      <td>How can Internet speed be increased by hacking...</td>\n",
       "      <td>0</td>\n",
       "    </tr>\n",
       "    <tr>\n",
       "      <th>3</th>\n",
       "      <td>3</td>\n",
       "      <td>7</td>\n",
       "      <td>8</td>\n",
       "      <td>Why am I mentally very lonely? How can I solve...</td>\n",
       "      <td>Find the remainder when [math]23^{24}[/math] i...</td>\n",
       "      <td>0</td>\n",
       "    </tr>\n",
       "    <tr>\n",
       "      <th>4</th>\n",
       "      <td>4</td>\n",
       "      <td>9</td>\n",
       "      <td>10</td>\n",
       "      <td>Which one dissolve in water quikly sugar, salt...</td>\n",
       "      <td>Which fish would survive in salt water?</td>\n",
       "      <td>0</td>\n",
       "    </tr>\n",
       "  </tbody>\n",
       "</table>\n",
       "</div>"
      ],
      "text/plain": [
       "   id  qid1  qid2                                          question1  \\\n",
       "0   0     1     2  What is the step by step guide to invest in sh...   \n",
       "1   1     3     4  What is the story of Kohinoor (Koh-i-Noor) Dia...   \n",
       "2   2     5     6  How can I increase the speed of my internet co...   \n",
       "3   3     7     8  Why am I mentally very lonely? How can I solve...   \n",
       "4   4     9    10  Which one dissolve in water quikly sugar, salt...   \n",
       "\n",
       "                                           question2  is_duplicate  \n",
       "0  What is the step by step guide to invest in sh...             0  \n",
       "1  What would happen if the Indian government sto...             0  \n",
       "2  How can Internet speed be increased by hacking...             0  \n",
       "3  Find the remainder when [math]23^{24}[/math] i...             0  \n",
       "4            Which fish would survive in salt water?             0  "
      ]
     },
     "execution_count": 3,
     "metadata": {},
     "output_type": "execute_result"
    }
   ],
   "source": [
    "df.head()"
   ]
  },
  {
   "cell_type": "code",
   "execution_count": 4,
   "id": "fccdf550-e67c-4a0d-9870-ff35489bed68",
   "metadata": {},
   "outputs": [
    {
     "data": {
      "text/plain": [
       "(404351, 6)"
      ]
     },
     "execution_count": 4,
     "metadata": {},
     "output_type": "execute_result"
    }
   ],
   "source": [
    "df.shape"
   ]
  },
  {
   "cell_type": "code",
   "execution_count": 6,
   "id": "fd1da1bd-56f3-46a9-977c-773749c59392",
   "metadata": {},
   "outputs": [
    {
     "data": {
      "text/html": [
       "<div>\n",
       "<style scoped>\n",
       "    .dataframe tbody tr th:only-of-type {\n",
       "        vertical-align: middle;\n",
       "    }\n",
       "\n",
       "    .dataframe tbody tr th {\n",
       "        vertical-align: top;\n",
       "    }\n",
       "\n",
       "    .dataframe thead th {\n",
       "        text-align: right;\n",
       "    }\n",
       "</style>\n",
       "<table border=\"1\" class=\"dataframe\">\n",
       "  <thead>\n",
       "    <tr style=\"text-align: right;\">\n",
       "      <th></th>\n",
       "      <th>id</th>\n",
       "      <th>qid1</th>\n",
       "      <th>qid2</th>\n",
       "      <th>question1</th>\n",
       "      <th>question2</th>\n",
       "      <th>is_duplicate</th>\n",
       "    </tr>\n",
       "  </thead>\n",
       "  <tbody>\n",
       "    <tr>\n",
       "      <th>327922</th>\n",
       "      <td>327922</td>\n",
       "      <td>643142</td>\n",
       "      <td>643143</td>\n",
       "      <td>How important is sex in a relationship?</td>\n",
       "      <td>Is sex really that important in maintaining lo...</td>\n",
       "      <td>1</td>\n",
       "    </tr>\n",
       "    <tr>\n",
       "      <th>37417</th>\n",
       "      <td>37417</td>\n",
       "      <td>74553</td>\n",
       "      <td>74554</td>\n",
       "      <td>What is the best exercise for the brain?</td>\n",
       "      <td>Which is the best brain exercise?</td>\n",
       "      <td>1</td>\n",
       "    </tr>\n",
       "    <tr>\n",
       "      <th>368843</th>\n",
       "      <td>368843</td>\n",
       "      <td>721846</td>\n",
       "      <td>721847</td>\n",
       "      <td>What is the difference between 100/125CC bike ...</td>\n",
       "      <td>What is the difference between a street bike a...</td>\n",
       "      <td>0</td>\n",
       "    </tr>\n",
       "    <tr>\n",
       "      <th>393823</th>\n",
       "      <td>393823</td>\n",
       "      <td>769653</td>\n",
       "      <td>769654</td>\n",
       "      <td>What's the word for someone who's against norm...</td>\n",
       "      <td>What is the word for being against normal beha...</td>\n",
       "      <td>1</td>\n",
       "    </tr>\n",
       "    <tr>\n",
       "      <th>298388</th>\n",
       "      <td>298388</td>\n",
       "      <td>586085</td>\n",
       "      <td>586086</td>\n",
       "      <td>Why does Quora do this \"marked as needing impr...</td>\n",
       "      <td>What makes a question on Quora needing improve...</td>\n",
       "      <td>1</td>\n",
       "    </tr>\n",
       "    <tr>\n",
       "      <th>266806</th>\n",
       "      <td>266806</td>\n",
       "      <td>524861</td>\n",
       "      <td>524862</td>\n",
       "      <td>Where can I buy a wholesale of clothes online?</td>\n",
       "      <td>What's the best place to find cheap clothing o...</td>\n",
       "      <td>0</td>\n",
       "    </tr>\n",
       "    <tr>\n",
       "      <th>345644</th>\n",
       "      <td>345644</td>\n",
       "      <td>677342</td>\n",
       "      <td>677343</td>\n",
       "      <td>How do I apologize to my stubborn best friend?</td>\n",
       "      <td>How can I apologise to my best friend?</td>\n",
       "      <td>1</td>\n",
       "    </tr>\n",
       "    <tr>\n",
       "      <th>375962</th>\n",
       "      <td>375962</td>\n",
       "      <td>735494</td>\n",
       "      <td>735495</td>\n",
       "      <td>Why do people care so much about graphics in v...</td>\n",
       "      <td>Why do some people care so much about blocking...</td>\n",
       "      <td>0</td>\n",
       "    </tr>\n",
       "    <tr>\n",
       "      <th>276354</th>\n",
       "      <td>276354</td>\n",
       "      <td>543361</td>\n",
       "      <td>543362</td>\n",
       "      <td>When will US military leave European countries?</td>\n",
       "      <td>Should the US military leave Europe?</td>\n",
       "      <td>0</td>\n",
       "    </tr>\n",
       "    <tr>\n",
       "      <th>253816</th>\n",
       "      <td>253816</td>\n",
       "      <td>499631</td>\n",
       "      <td>499632</td>\n",
       "      <td>Are foot massages intimate?</td>\n",
       "      <td>Are foot massages sexual or not?</td>\n",
       "      <td>1</td>\n",
       "    </tr>\n",
       "  </tbody>\n",
       "</table>\n",
       "</div>"
      ],
      "text/plain": [
       "            id    qid1    qid2  \\\n",
       "327922  327922  643142  643143   \n",
       "37417    37417   74553   74554   \n",
       "368843  368843  721846  721847   \n",
       "393823  393823  769653  769654   \n",
       "298388  298388  586085  586086   \n",
       "266806  266806  524861  524862   \n",
       "345644  345644  677342  677343   \n",
       "375962  375962  735494  735495   \n",
       "276354  276354  543361  543362   \n",
       "253816  253816  499631  499632   \n",
       "\n",
       "                                                question1  \\\n",
       "327922            How important is sex in a relationship?   \n",
       "37417            What is the best exercise for the brain?   \n",
       "368843  What is the difference between 100/125CC bike ...   \n",
       "393823  What's the word for someone who's against norm...   \n",
       "298388  Why does Quora do this \"marked as needing impr...   \n",
       "266806     Where can I buy a wholesale of clothes online?   \n",
       "345644     How do I apologize to my stubborn best friend?   \n",
       "375962  Why do people care so much about graphics in v...   \n",
       "276354    When will US military leave European countries?   \n",
       "253816                        Are foot massages intimate?   \n",
       "\n",
       "                                                question2  is_duplicate  \n",
       "327922  Is sex really that important in maintaining lo...             1  \n",
       "37417                   Which is the best brain exercise?             1  \n",
       "368843  What is the difference between a street bike a...             0  \n",
       "393823  What is the word for being against normal beha...             1  \n",
       "298388  What makes a question on Quora needing improve...             1  \n",
       "266806  What's the best place to find cheap clothing o...             0  \n",
       "345644             How can I apologise to my best friend?             1  \n",
       "375962  Why do some people care so much about blocking...             0  \n",
       "276354               Should the US military leave Europe?             0  \n",
       "253816                   Are foot massages sexual or not?             1  "
      ]
     },
     "execution_count": 6,
     "metadata": {},
     "output_type": "execute_result"
    }
   ],
   "source": [
    "df.sample(10)"
   ]
  },
  {
   "cell_type": "code",
   "execution_count": 8,
   "id": "c191e1cf-5e6d-4270-8bb6-7984c5153937",
   "metadata": {},
   "outputs": [
    {
     "name": "stdout",
     "output_type": "stream",
     "text": [
      "<class 'pandas.core.frame.DataFrame'>\n",
      "RangeIndex: 404351 entries, 0 to 404350\n",
      "Data columns (total 6 columns):\n",
      " #   Column        Non-Null Count   Dtype \n",
      "---  ------        --------------   ----- \n",
      " 0   id            404351 non-null  int64 \n",
      " 1   qid1          404351 non-null  int64 \n",
      " 2   qid2          404351 non-null  int64 \n",
      " 3   question1     404350 non-null  object\n",
      " 4   question2     404349 non-null  object\n",
      " 5   is_duplicate  404351 non-null  int64 \n",
      "dtypes: int64(4), object(2)\n",
      "memory usage: 18.5+ MB\n"
     ]
    }
   ],
   "source": [
    "df.info()"
   ]
  },
  {
   "cell_type": "code",
   "execution_count": 11,
   "id": "011c83e9-a8a3-429e-88e8-00ab8033a87e",
   "metadata": {},
   "outputs": [
    {
     "data": {
      "text/plain": [
       "id              0\n",
       "qid1            0\n",
       "qid2            0\n",
       "question1       1\n",
       "question2       2\n",
       "is_duplicate    0\n",
       "dtype: int64"
      ]
     },
     "execution_count": 11,
     "metadata": {},
     "output_type": "execute_result"
    }
   ],
   "source": [
    "#Missing values\n",
    "df.isnull().sum()"
   ]
  },
  {
   "cell_type": "code",
   "execution_count": 12,
   "id": "d8502ba1-49df-4c7d-9ef8-8c42bc030bae",
   "metadata": {},
   "outputs": [
    {
     "data": {
      "text/plain": [
       "0"
      ]
     },
     "execution_count": 12,
     "metadata": {},
     "output_type": "execute_result"
    }
   ],
   "source": [
    "#duplicated rows\n",
    "df.duplicated().sum()"
   ]
  },
  {
   "cell_type": "code",
   "execution_count": 16,
   "id": "41dcfcc5-675f-41df-8b31-05d04c18d679",
   "metadata": {},
   "outputs": [
    {
     "name": "stdout",
     "output_type": "stream",
     "text": [
      "is_duplicate\n",
      "0    255045\n",
      "1    149306\n",
      "Name: count, dtype: int64\n",
      "is_duplicate\n",
      "0    63.07515\n",
      "1    36.92485\n",
      "Name: count, dtype: float64\n"
     ]
    },
    {
     "data": {
      "image/png": "[encoded data removed]",
      "text/plain": [
       "<Figure size 640x480 with 1 Axes>"
      ]
     },
     "metadata": {},
     "output_type": "display_data"
    }
   ],
   "source": [
    "#distrubution of duplicated and non-duplicated questions\n",
    "print(df['is_duplicate'].value_counts())\n",
    "print((df['is_duplicate'].value_counts()/df['is_duplicate'].count())*100)\n",
    "\n",
    "# Plotting the distribution\n",
    "df['is_duplicate'].value_counts().plot(kind='bar')\n",
    "plt.title(\"Distribution of Duplicated vs Non-Duplicated Questions\")\n",
    "plt.xlabel(\"Is Duplicate\")\n",
    "plt.ylabel(\"Number of Questions\")\n",
    "plt.show()"
   ]
  },
  {
   "cell_type": "code",
   "execution_count": 17,
   "id": "94d3bb19-85b5-49e9-8743-cf04fc711126",
   "metadata": {},
   "outputs": [
    {
     "name": "stdout",
     "output_type": "stream",
     "text": [
      "Number of unique questions 789801\n",
      "Number of questions getting repeated 13698\n"
     ]
    }
   ],
   "source": [
    "#Repeated questions\n",
    "qid = pd.Series(df['qid1'].tolist() + df['qid2'].tolist())\n",
    "print('Number of unique questions',np.unique(qid).shape[0])\n",
    "x = qid.value_counts()>1\n",
    "print('Number of questions getting repeated',x[x].shape[0])"
   ]
  },
  {
   "cell_type": "code",
   "execution_count": 19,
   "id": "30ac6b43-f5ca-45c1-a8b8-58a707727c23",
   "metadata": {},
   "outputs": [
    {
     "data": {
      "image/png": "[encoded data removed]",
      "text/plain": [
       "<Figure size 640x480 with 1 Axes>"
      ]
     },
     "metadata": {},
     "output_type": "display_data"
    }
   ],
   "source": [
    "# Repeated questions histogram\n",
    "\n",
    "plt.hist(qid.value_counts().values,bins=160)\n",
    "plt.yscale('log')\n",
    "plt.show()\n",
    "\n",
    "#questions kitne bar occor kar rahe hai"
   ]
  },
  {
   "cell_type": "code",
   "execution_count": null,
   "id": "cf077125-8aa9-420b-bbc9-1db06fd6e62f",
   "metadata": {},
   "outputs": [],
   "source": []
  }
 ],
 "metadata": {
  "kernelspec": {
   "display_name": "Python 3 (ipykernel)",
   "language": "python",
   "name": "python3"
  },
  "language_info": {
   "codemirror_mode": {
    "name": "ipython",
    "version": 3
   },
   "file_extension": ".py",
   "mimetype": "text/x-python",
   "name": "python",
   "nbconvert_exporter": "python",
   "pygments_lexer": "ipython3",
   "version": "3.12.7"
  }
 },
 "nbformat": 4,
 "nbformat_minor": 5
}
